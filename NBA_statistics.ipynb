{
 "cells": [
  {
   "cell_type": "code",
   "execution_count": null,
   "id": "b056f597-678d-41c8-abfd-ac9f45ba94c6",
   "metadata": {},
   "outputs": [],
   "source": [
    "import pandas as pd\n",
    "import numpy as np\n",
    "import matplotlib.pyplot as plt\n",
    "import seaborn as sn\n",
    "\n",
    "import pandas as pd\n",
    "import numpy as np\n",
    "from scipy.stats import chi2_contingency\n",
    "from scipy.stats.contingency import association\n",
    "import matplotlib.pyplot as plt\n",
    "import seaborn as sns\n",
    "import plotly.express as px\n",
    "import plotly.graph_objects as go\n",
    "from sklearn.model_selection import train_test_split\n",
    "from sklearn.linear_model import LinearRegression\n",
    "from sklearn.metrics import r2_score, mean_squared_error, mean_absolute_error"
   ]
  },
  {
   "cell_type": "code",
   "execution_count": null,
   "id": "ae8f5ccf-a857-4421-988e-08d89d42c844",
   "metadata": {},
   "outputs": [],
   "source": [
    "df_jugadores = pd.read_csv(\"players_analysis.csv\")"
   ]
  },
  {
   "cell_type": "code",
   "execution_count": null,
   "id": "7bb353b3-2ed0-4559-82f0-56ed3cf84e23",
   "metadata": {},
   "outputs": [],
   "source": [
    "df_jugadores[df_jugadores['Player'] == 'LeBron James']"
   ]
  },
  {
   "cell_type": "code",
   "execution_count": null,
   "id": "3834da77-f537-4fac-96d8-0c074932fa4b",
   "metadata": {},
   "outputs": [],
   "source": [
    "df_jugadores.drop(columns=['Unnamed: 0'], inplace=True)"
   ]
  },
  {
   "cell_type": "code",
   "execution_count": null,
   "id": "996df312-cb8d-4837-abeb-30599523a0a2",
   "metadata": {},
   "outputs": [],
   "source": [
    "df_jugadores.to_csv(\"players_analysis.csv\")"
   ]
  },
  {
   "cell_type": "code",
   "execution_count": null,
   "id": "d29f761b-9c85-43d3-8e0e-8c66f58a2126",
   "metadata": {},
   "outputs": [],
   "source": [
    "df_estadisticas = pd.read_csv(\"database_24_25.csv\")"
   ]
  },
  {
   "cell_type": "code",
   "execution_count": null,
   "id": "2b0b12ed-4c51-4bad-8790-f421d4fd267a",
   "metadata": {},
   "outputs": [],
   "source": [
    "pd.set_option('display.max_columns', None)"
   ]
  },
  {
   "cell_type": "code",
   "execution_count": null,
   "id": "98ba7072-418f-4103-8a0c-5120ec174640",
   "metadata": {},
   "outputs": [],
   "source": [
    "df_stats = df_estadisticas.groupby('Player')[['MP', 'FG', 'FGA', 'FG%', '3P', '3PA', '3P%', 'FT', 'FTA', 'FT%', 'ORB', 'DRB', 'TRB', 'AST', 'STL', 'BLK', 'TOV', 'PF', 'PTS', 'GmSc']].mean().round(2).reset_index()\n",
    "df_stats"
   ]
  },
  {
   "cell_type": "code",
   "execution_count": null,
   "id": "4f3e21ee-2154-4e3d-bf4c-3d04bd93a8a0",
   "metadata": {},
   "outputs": [],
   "source": [
    "df_stats.info()"
   ]
  },
  {
   "cell_type": "code",
   "execution_count": null,
   "id": "8e5ecf8a-95e8-452d-a7a9-e6cb88045720",
   "metadata": {},
   "outputs": [],
   "source": [
    "df_estadisticas[df_estadisticas['Tm'] == 'LAL']"
   ]
  },
  {
   "cell_type": "code",
   "execution_count": null,
   "id": "050f49fa-2753-4538-a96d-8f068011dbad",
   "metadata": {},
   "outputs": [],
   "source": [
    "df = df_stats.merge(df_jugadores, on='Player', how='outer')"
   ]
  },
  {
   "cell_type": "code",
   "execution_count": null,
   "id": "ba056a29-a77f-4768-a4aa-d16ce0459872",
   "metadata": {},
   "outputs": [],
   "source": [
    "df.dropna(subset='MP', inplace=True)"
   ]
  },
  {
   "cell_type": "code",
   "execution_count": null,
   "id": "619da643-001c-486b-b115-48e518f7cac3",
   "metadata": {},
   "outputs": [],
   "source": [
    "df.dropna(subset='position', inplace=True)"
   ]
  },
  {
   "cell_type": "code",
   "execution_count": null,
   "id": "889f2d9b-9bff-4980-97dc-61e227b688ec",
   "metadata": {},
   "outputs": [],
   "source": [
    "df = df[df['position'] != 'G-C']"
   ]
  },
  {
   "cell_type": "code",
   "execution_count": null,
   "id": "292ade7d-9af2-4c8a-a07c-48d8501fc7f8",
   "metadata": {},
   "outputs": [],
   "source": [
    "df"
   ]
  },
  {
   "cell_type": "code",
   "execution_count": null,
   "id": "ab2f9dab-e193-49fc-acc8-00ddb7af0cbb",
   "metadata": {},
   "outputs": [],
   "source": [
    "# Definir el umbral de altura para clasificar\n",
    "umbral_altura = 2.07\n",
    "\n",
    "# Modificar la columna 'position' basado en la altura\n",
    "df['position'] = df.apply(\n",
    "    lambda row: 'F' if row['position'] == 'F-C' and row['height'] < umbral_altura else\n",
    "                'C' if row['position'] == 'F-C' and row['height'] >= umbral_altura else\n",
    "                row['position'],\n",
    "    axis=1\n",
    ")"
   ]
  },
  {
   "cell_type": "code",
   "execution_count": null,
   "id": "610bdfca-82e6-44e0-a663-38240bc009ef",
   "metadata": {},
   "outputs": [],
   "source": [
    "df.to_csv(\"players_merged.csv\")"
   ]
  },
  {
   "cell_type": "code",
   "execution_count": null,
   "id": "bffb43a9-7373-4d10-aab0-eceb08c21eec",
   "metadata": {},
   "outputs": [],
   "source": [
    "df.describe()"
   ]
  },
  {
   "cell_type": "code",
   "execution_count": null,
   "id": "2aaa4fea-8d8a-48bc-8512-822abae7dc02",
   "metadata": {},
   "outputs": [],
   "source": [
    "num_df = df.select_dtypes(include='number')\n",
    "cat_df = df.select_dtypes(exclude='number')"
   ]
  },
  {
   "cell_type": "code",
   "execution_count": null,
   "id": "1f0fec35-4082-42a3-a22f-9764c29bba68",
   "metadata": {},
   "outputs": [],
   "source": [
    "num_df"
   ]
  },
  {
   "cell_type": "code",
   "execution_count": null,
   "id": "95a9bd61-0b46-4b9f-b66e-a62e508a5cd9",
   "metadata": {},
   "outputs": [],
   "source": [
    "target = num_df.pop(\"MP\")\n",
    "num_df['MP'] = target"
   ]
  },
  {
   "cell_type": "code",
   "execution_count": null,
   "id": "6b0b5893-8112-4c20-b0de-c931f4b041df",
   "metadata": {},
   "outputs": [],
   "source": [
    "num_df.corrwith(num_df[\"MP\"]).sort_values(ascending=False)"
   ]
  },
  {
   "cell_type": "code",
   "execution_count": null,
   "id": "07bb4cf4-3902-4537-8403-ce40563c80b7",
   "metadata": {},
   "outputs": [],
   "source": [
    "num_corr = num_df.corr().round(2)"
   ]
  },
  {
   "cell_type": "code",
   "execution_count": null,
   "id": "8f0a82b2-0092-45c7-9ad7-143a68d06fb1",
   "metadata": {},
   "outputs": [],
   "source": [
    "# Correlation Matrix-Heatmap Plot\n",
    "mask = np.zeros_like(num_corr)\n",
    "mask[np.triu_indices_from(mask)] = True # optional, to hide repeat half of the matrix\n",
    "\n",
    "f, ax = plt.subplots(figsize=(20, 10))\n",
    "sns.set(font_scale=1.5) # increase font size\n",
    "\n",
    "ax = sns.heatmap(num_corr, mask=mask, annot=True, annot_kws={\"size\": 12}, linewidths=.5, cmap=\"coolwarm\", fmt=\".2f\", ax=ax) # round to 2 decimal places\n",
    "ax.set_title(\"Minutes played Multicollinearity\", fontsize=20) # add title\n",
    "plt.show()"
   ]
  },
  {
   "cell_type": "code",
   "execution_count": null,
   "id": "995e33da-9bfb-4c2c-952d-2fbdefbb683b",
   "metadata": {},
   "outputs": [],
   "source": [
    "X = num_df.drop(\"MP\", axis=1)\n",
    "y = num_df[\"MP\"]"
   ]
  },
  {
   "cell_type": "code",
   "execution_count": null,
   "id": "9ed7b8dc-1364-4e7d-961a-0d8fd06398f0",
   "metadata": {},
   "outputs": [],
   "source": [
    "X_train, X_test, y_train, y_test = train_test_split(X, y, test_size=0.3, random_state=42)"
   ]
  },
  {
   "cell_type": "code",
   "execution_count": null,
   "id": "e7ef352e-3ba2-48cf-a257-665025d36c9c",
   "metadata": {},
   "outputs": [],
   "source": [
    "print(f'100% of our data: {len(num_df)}.')\n",
    "print(f'70% for training data: {len(X_train)}.')\n",
    "print(f'30% for test data: {len(X_test)}.')"
   ]
  },
  {
   "cell_type": "code",
   "execution_count": null,
   "id": "b75cba95-e205-4f5d-9eb6-839e324f75e1",
   "metadata": {},
   "outputs": [],
   "source": [
    "model = LinearRegression()\n",
    "model.fit(X_train, y_train)"
   ]
  },
  {
   "cell_type": "code",
   "execution_count": null,
   "id": "6d71361a-d09c-46b6-a9e4-6d90f2950f64",
   "metadata": {},
   "outputs": [],
   "source": [
    "predictions = model.predict(X_test)"
   ]
  },
  {
   "cell_type": "code",
   "execution_count": null,
   "id": "3b023459-1e24-4878-8656-d511d0c2b37f",
   "metadata": {},
   "outputs": [],
   "source": [
    "r2 = r2_score(y_test, predictions)\n",
    "RMSE = mean_squared_error(y_test, predictions, squared=False)\n",
    "MSE = mean_squared_error(y_test, predictions)\n",
    "MAE = mean_absolute_error(y_test, predictions)"
   ]
  },
  {
   "cell_type": "code",
   "execution_count": null,
   "id": "b00a6dcc-e0d2-4ede-ab12-37daff5c6a78",
   "metadata": {},
   "outputs": [],
   "source": [
    "#Printing the results\n",
    "print(\"R2 = \", round(r2, 4))\n",
    "print(\"RMSE = \", round(RMSE, 4))\n",
    "print(\"The value of the metric MSE is \", round(MSE, 4))\n",
    "print(\"MAE = \", round(MAE, 4))"
   ]
  },
  {
   "cell_type": "code",
   "execution_count": null,
   "id": "c432da83-c3fe-4367-a78d-af2041fae5c8",
   "metadata": {},
   "outputs": [],
   "source": [
    "from sklearn.linear_model import Ridge"
   ]
  },
  {
   "cell_type": "code",
   "execution_count": null,
   "id": "34f893f9-acbd-4685-809e-0c68d2570749",
   "metadata": {},
   "outputs": [],
   "source": [
    "ridge = Ridge()\n",
    "ridge.fit(X_train, y_train)"
   ]
  },
  {
   "cell_type": "code",
   "execution_count": null,
   "id": "8f4c2062-de2f-4e92-b0b9-776dbf6d47ee",
   "metadata": {},
   "outputs": [],
   "source": [
    "predictions_ridge = ridge.predict(X_test)"
   ]
  },
  {
   "cell_type": "code",
   "execution_count": null,
   "id": "5234e6e0-dd7e-48e0-a83f-f814ec38dfd2",
   "metadata": {},
   "outputs": [],
   "source": [
    "r2_ridge = r2_score(y_test, predictions_ridge)\n",
    "RMSE_ridge = mean_squared_error(y_test, predictions_ridge, squared=False)\n",
    "MSE_ridge = mean_squared_error(y_test, predictions_ridge)\n",
    "MAE_ridge = mean_absolute_error(y_test, predictions_ridge)"
   ]
  },
  {
   "cell_type": "code",
   "execution_count": null,
   "id": "9c40fa44-d8a8-463f-ac70-c77282fea2cf",
   "metadata": {},
   "outputs": [],
   "source": [
    "#Printing the results\n",
    "print(\"R2 = \", round(r2_ridge, 4))\n",
    "print(\"RMSE = \", round(RMSE_ridge, 4))\n",
    "print(\"The value of the metric MSE is \", round(MSE_ridge, 4))\n",
    "print(\"MAE = \", round(MAE_ridge, 4))"
   ]
  },
  {
   "cell_type": "code",
   "execution_count": null,
   "id": "830ad578-f4c7-49fd-9d1b-69a0be641108",
   "metadata": {},
   "outputs": [],
   "source": [
    "from sklearn.linear_model import Lasso"
   ]
  },
  {
   "cell_type": "code",
   "execution_count": null,
   "id": "b0a82c9f-ba4b-40d3-8205-0b10eebe51d2",
   "metadata": {},
   "outputs": [],
   "source": [
    "lasso = Lasso()\n",
    "lasso.fit(X_train, y_train)"
   ]
  },
  {
   "cell_type": "code",
   "execution_count": null,
   "id": "3a2e7f18-8e5c-406c-9bc8-3b1c1ea1506a",
   "metadata": {},
   "outputs": [],
   "source": [
    "predictions_lasso = lasso.predict(X_test)"
   ]
  },
  {
   "cell_type": "code",
   "execution_count": null,
   "id": "cd9a98af-1f57-413c-ac80-542e89975e7f",
   "metadata": {},
   "outputs": [],
   "source": [
    "r2_lasso = r2_score(y_test, predictions_lasso)\n",
    "RMSE_lasso = mean_squared_error(y_test, predictions_lasso, squared=False)\n",
    "MSE_lasso = mean_squared_error(y_test, predictions_lasso)\n",
    "MAE_lasso = mean_absolute_error(y_test, predictions_lasso)"
   ]
  },
  {
   "cell_type": "code",
   "execution_count": null,
   "id": "08a289b4-1479-4e06-92b5-4e44e68e6de9",
   "metadata": {},
   "outputs": [],
   "source": [
    "#Printing the results\n",
    "print(\"R2 = \", round(r2_lasso, 4))\n",
    "print(\"RMSE = \", round(RMSE_lasso, 4))\n",
    "print(\"The value of the metric MSE is \", round(MSE_lasso, 4))\n",
    "print(\"MAE = \", round(MAE_lasso, 4))"
   ]
  },
  {
   "cell_type": "code",
   "execution_count": null,
   "id": "1d79c0e1-ac13-4f65-94b4-5404ab9518ef",
   "metadata": {},
   "outputs": [],
   "source": [
    "from sklearn.tree import DecisionTreeRegressor"
   ]
  },
  {
   "cell_type": "code",
   "execution_count": null,
   "id": "ce2ee263-46a4-419a-8bf2-5f7b80e7b207",
   "metadata": {},
   "outputs": [],
   "source": [
    "tree = DecisionTreeRegressor()\n",
    "tree.fit(X_train, y_train)"
   ]
  },
  {
   "cell_type": "code",
   "execution_count": null,
   "id": "8fc3ac94-5c68-4a15-bf30-16094d186b98",
   "metadata": {},
   "outputs": [],
   "source": [
    "predictions_tree = tree.predict(X_test)"
   ]
  },
  {
   "cell_type": "code",
   "execution_count": null,
   "id": "c0e47b4e-04c3-42a7-a4b8-a118136f6500",
   "metadata": {},
   "outputs": [],
   "source": [
    "r2_tree = r2_score(y_test, predictions_tree)\n",
    "RMSE_tree = mean_squared_error(y_test, predictions_tree, squared=False)\n",
    "MSE_tree = mean_squared_error(y_test, predictions_tree)\n",
    "MAE_tree = mean_absolute_error(y_test, predictions_tree)"
   ]
  },
  {
   "cell_type": "code",
   "execution_count": null,
   "id": "5d463f46-0c75-4b48-a922-aaabba24e143",
   "metadata": {},
   "outputs": [],
   "source": [
    "#Printing the results\n",
    "print(\"R2 = \", round(r2_tree, 4))\n",
    "print(\"RMSE = \", round(RMSE_tree, 4))\n",
    "print(\"The value of the metric MSE is \", round(MSE_tree, 4))\n",
    "print(\"MAE = \", round(MAE_tree, 4))"
   ]
  },
  {
   "cell_type": "code",
   "execution_count": null,
   "id": "94364b00-2b6b-4468-b0c5-4d5d7e64e32d",
   "metadata": {},
   "outputs": [],
   "source": [
    "from sklearn.neighbors import KNeighborsRegressor"
   ]
  },
  {
   "cell_type": "code",
   "execution_count": null,
   "id": "680abbc1-fd67-45f8-b8e3-c5649c8cc4c0",
   "metadata": {},
   "outputs": [],
   "source": [
    "knn = KNeighborsRegressor()\n",
    "knn.fit(X_train, y_train)"
   ]
  },
  {
   "cell_type": "code",
   "execution_count": null,
   "id": "9016323f-8383-477d-a7f3-f0f4461aa5f7",
   "metadata": {},
   "outputs": [],
   "source": [
    "predictions_knn = knn.predict(X_test)"
   ]
  },
  {
   "cell_type": "code",
   "execution_count": null,
   "id": "1cfe6b19-66d1-474f-9388-c7368d4ea6f8",
   "metadata": {},
   "outputs": [],
   "source": [
    "r2_knn = r2_score(y_test, predictions_knn)\n",
    "RMSE_knn = mean_squared_error(y_test, predictions_knn, squared=False)\n",
    "MSE_knn = mean_squared_error(y_test, predictions_knn)\n",
    "MAE_knn = mean_absolute_error(y_test, predictions_knn)"
   ]
  },
  {
   "cell_type": "code",
   "execution_count": null,
   "id": "0ca26ee5-0b56-411c-9f14-8645afa38186",
   "metadata": {},
   "outputs": [],
   "source": [
    "#Printing the results\n",
    "print(\"R2 = \", round(r2_knn, 4))\n",
    "print(\"RMSE = \", round(RMSE_knn, 4))\n",
    "print(\"The value of the metric MSE is \", round(MSE_knn, 4))\n",
    "print(\"MAE = \", round(MAE_knn, 4))"
   ]
  },
  {
   "cell_type": "code",
   "execution_count": null,
   "id": "75cdcda6-0a18-4b1d-9a02-2a74addf2525",
   "metadata": {},
   "outputs": [],
   "source": [
    "import xgboost as xgb"
   ]
  },
  {
   "cell_type": "code",
   "execution_count": null,
   "id": "e5de1606-d56d-4fe4-a977-ebfaa1a9cd5a",
   "metadata": {},
   "outputs": [],
   "source": [
    "xgbr = xgb.XGBRFRegressor()\n",
    "xgbr.fit(X_train, y_train)"
   ]
  },
  {
   "cell_type": "code",
   "execution_count": null,
   "id": "2ec0a6c2-b2dd-4160-a347-af9a74b13286",
   "metadata": {},
   "outputs": [],
   "source": [
    "predictions_xgb = xgbr.predict(X_test)"
   ]
  },
  {
   "cell_type": "code",
   "execution_count": null,
   "id": "5d850a60-a075-4416-8ab3-7b6b6a15cd71",
   "metadata": {},
   "outputs": [],
   "source": [
    "r2_xg = r2_score(y_test, predictions_xgb)\n",
    "RMSE_xg = mean_squared_error(y_test, predictions_xgb, squared=False)\n",
    "MSE_xg = mean_squared_error(y_test, predictions_xgb)\n",
    "MAE_xg = mean_absolute_error(y_test, predictions_xgb)"
   ]
  },
  {
   "cell_type": "code",
   "execution_count": null,
   "id": "a036d54f-a8e1-4f63-afa8-3d47a8f76715",
   "metadata": {},
   "outputs": [],
   "source": [
    "#Printing the results\n",
    "print(\"R2 = \", round(r2_xg, 4))\n",
    "print(\"RMSE = \", round(RMSE_xg, 4))\n",
    "print(\"The value of the metric MSE is \", round(MSE_xg, 4))\n",
    "print(\"MAE = \", round(MAE_xg, 4))"
   ]
  },
  {
   "cell_type": "code",
   "execution_count": null,
   "id": "0a8908dc-2f31-49ed-aa3a-e1fe46c12259",
   "metadata": {},
   "outputs": [],
   "source": [
    "metrics = {\n",
    "    'Model': ['Linear Regression', 'Ridge', 'Lasso', 'Decision Tree', 'KNN', 'XGBoost'],\n",
    "    'R²': [r2, r2_ridge, r2_lasso, r2_tree, r2_knn, r2_xg],\n",
    "    'RMSE': [RMSE, RMSE_ridge, RMSE_lasso, RMSE_tree, RMSE_knn, RMSE_xg],\n",
    "    'MSE': [MSE, MSE_ridge, MSE_lasso, MSE_tree, MSE_knn, MSE_xg],\n",
    "    'MAE': [MAE, MAE_ridge, MAE_lasso, MAE_tree, MAE_knn, MAE_xg]\n",
    "}"
   ]
  },
  {
   "cell_type": "code",
   "execution_count": null,
   "id": "7c931716-3313-447a-957e-1857bc8396fd",
   "metadata": {},
   "outputs": [],
   "source": [
    "df_metrics = pd.DataFrame(metrics)\n",
    "df_metrics.set_index(\"Model\").T"
   ]
  },
  {
   "cell_type": "code",
   "execution_count": null,
   "id": "f043d513-d158-47b8-a5a1-89931d6a373e",
   "metadata": {},
   "outputs": [],
   "source": [
    "series_pred = pd.Series(predictions, name='predictions')"
   ]
  },
  {
   "cell_type": "code",
   "execution_count": null,
   "id": "0022c811-9753-483c-b7a7-32596aed98fa",
   "metadata": {},
   "outputs": [],
   "source": [
    "series_y_test = pd.Series(y_test, name='actual')"
   ]
  },
  {
   "cell_type": "code",
   "execution_count": null,
   "id": "ee9dfc07-35ed-4f3a-a4b8-1c893ff779fb",
   "metadata": {},
   "outputs": [],
   "source": [
    "comparison_df = pd.concat([series_y_test.reset_index(drop=True), series_pred], axis=1)"
   ]
  },
  {
   "cell_type": "code",
   "execution_count": null,
   "id": "f4fa515a-01e1-4f30-9956-0fdd74c39a9d",
   "metadata": {},
   "outputs": [],
   "source": [
    "comparison_df.head(20)"
   ]
  }
 ],
 "metadata": {
  "kernelspec": {
   "display_name": "Python 3 (ipykernel)",
   "language": "python",
   "name": "python3"
  },
  "language_info": {
   "codemirror_mode": {
    "name": "ipython",
    "version": 3
   },
   "file_extension": ".py",
   "mimetype": "text/x-python",
   "name": "python",
   "nbconvert_exporter": "python",
   "pygments_lexer": "ipython3",
   "version": "3.12.4"
  }
 },
 "nbformat": 4,
 "nbformat_minor": 5
}
