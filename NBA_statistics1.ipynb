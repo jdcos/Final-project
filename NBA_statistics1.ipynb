{
 "cells": [
  {
   "cell_type": "code",
   "execution_count": null,
   "id": "20219907-3ae8-4cd2-8527-59372bf54efd",
   "metadata": {},
   "outputs": [],
   "source": [
    "# 📚 Basic Libraries\n",
    "import numpy as np\n",
    "import pandas as pd\n",
    "import warnings\n",
    "\n",
    "# 📊 Visualizations\n",
    "import matplotlib.pyplot as plt\n",
    "import seaborn as sns\n",
    "\n",
    "# 🤖 Machine Learning\n",
    "from sklearn.preprocessing import StandardScaler"
   ]
  },
  {
   "cell_type": "code",
   "execution_count": null,
   "id": "c134a444-c0aa-4be3-b47f-9ad4e903482e",
   "metadata": {},
   "outputs": [],
   "source": [
    "pd.set_option('display.max_columns', None) # display all columns\n",
    "warnings.filterwarnings('ignore') # ignore warnings"
   ]
  },
  {
   "cell_type": "code",
   "execution_count": null,
   "id": "215c603f-6b4a-4362-8bfb-6663ed71c734",
   "metadata": {},
   "outputs": [],
   "source": [
    "df = pd.read_csv(\"players_merged.csv\")"
   ]
  },
  {
   "cell_type": "code",
   "execution_count": null,
   "id": "1869d630-16d4-4e65-805d-b1fdf143c840",
   "metadata": {},
   "outputs": [],
   "source": [
    "df"
   ]
  },
  {
   "cell_type": "code",
   "execution_count": null,
   "id": "da9d70dc-c383-4d9b-a486-719f0794527b",
   "metadata": {},
   "outputs": [],
   "source": [
    "df.drop(columns='Unnamed: 0', inplace=True)"
   ]
  },
  {
   "cell_type": "code",
   "execution_count": null,
   "id": "5ae9b72d-03a4-49e5-afbf-ef8025b8dfb4",
   "metadata": {},
   "outputs": [],
   "source": [
    "df.position.value_counts()"
   ]
  },
  {
   "cell_type": "code",
   "execution_count": null,
   "id": "9424426b-7ab9-4b60-9a53-71c0b9185962",
   "metadata": {},
   "outputs": [],
   "source": [
    "plt.figure(figsize=(8, 6))\n",
    "sns.scatterplot(data=df, x='AST', y='TRB', hue='position', style='position', s=100)\n",
    "plt.title('position analytics')\n",
    "plt.xlabel('Assists per game')\n",
    "plt.ylabel('Rebounds per game')\n",
    "plt.legend(title='position')\n",
    "plt.show()"
   ]
  },
  {
   "cell_type": "code",
   "execution_count": null,
   "id": "baeb2a22-a9c1-488f-a83f-b7e9f5ea671e",
   "metadata": {},
   "outputs": [],
   "source": [
    "df1 = df.drop(columns=['Player', 'country', 'draft_year', 'draft_number', 'conference', 'division', 'team'])"
   ]
  },
  {
   "cell_type": "code",
   "execution_count": null,
   "id": "490eaa29-49d0-4ca5-8cbe-cf99da22fad8",
   "metadata": {},
   "outputs": [],
   "source": [
    "sns.pairplot(df1, hue=\"position\")"
   ]
  },
  {
   "cell_type": "code",
   "execution_count": null,
   "id": "3ac262bd-d2b7-496d-97dc-e6151c98083c",
   "metadata": {},
   "outputs": [],
   "source": [
    "from sklearn.decomposition import PCA"
   ]
  },
  {
   "cell_type": "code",
   "execution_count": null,
   "id": "f82fa8a9-bd33-4e56-9d83-9e3d713440e3",
   "metadata": {},
   "outputs": [],
   "source": [
    "y = df1['position']\n",
    "X = df1.drop(columns='position')"
   ]
  },
  {
   "cell_type": "code",
   "execution_count": null,
   "id": "a55d70b4-9c0b-4efb-aa55-029deac79d88",
   "metadata": {},
   "outputs": [],
   "source": [
    "scaler = StandardScaler()\n",
    "X_scaled = scaler.fit_transform(X)\n",
    "X_scaled"
   ]
  },
  {
   "cell_type": "code",
   "execution_count": null,
   "id": "a3160b32-98c2-4100-8b21-610262d66ea5",
   "metadata": {},
   "outputs": [],
   "source": [
    "pca = PCA(n_components=2)\n",
    "X_pca = pca.fit_transform(X_scaled)"
   ]
  },
  {
   "cell_type": "code",
   "execution_count": null,
   "id": "5fedb39e-029c-49bd-8dda-b8cd66c7ae1b",
   "metadata": {},
   "outputs": [],
   "source": [
    "pca_df = pd.DataFrame(data = X_pca, columns = ['PC1', 'PC2'])\n",
    "pca_df['position'] = y"
   ]
  },
  {
   "cell_type": "code",
   "execution_count": null,
   "id": "c6a4170d-85b1-4bb8-8303-e09dd4df272f",
   "metadata": {},
   "outputs": [],
   "source": [
    "pca_df.head()"
   ]
  },
  {
   "cell_type": "code",
   "execution_count": null,
   "id": "3084451d-063c-4982-baf3-e558839a3e2b",
   "metadata": {},
   "outputs": [],
   "source": [
    "plt.figure(figsize=(8, 6))\n",
    "sns.scatterplot(data=pca_df, x='PC1', y='PC2', hue='position', style='position', s=100)\n",
    "plt.title('PCA of Iris Dataset')\n",
    "plt.xlabel('Principal Component 1')\n",
    "plt.ylabel('Principal Component 2')\n",
    "plt.legend(title='position')\n",
    "plt.show()"
   ]
  },
  {
   "cell_type": "code",
   "execution_count": null,
   "id": "222cf37f-4b6a-4b36-b3e2-a8594acc815e",
   "metadata": {},
   "outputs": [],
   "source": [
    "from sklearn.cluster import KMeans"
   ]
  },
  {
   "cell_type": "code",
   "execution_count": null,
   "id": "f69ef325-dd09-4249-9c1f-61f1f2e555dc",
   "metadata": {},
   "outputs": [],
   "source": [
    "kmeans = KMeans(n_clusters=4, random_state=42)\n",
    "kmeans.fit(X_scaled)"
   ]
  },
  {
   "cell_type": "code",
   "execution_count": null,
   "id": "c18df651-7153-4122-a06c-f5c8d6be4cad",
   "metadata": {},
   "outputs": [],
   "source": [
    "kmeans.labels_"
   ]
  },
  {
   "cell_type": "code",
   "execution_count": null,
   "id": "202b265a-a2b1-4f5c-88b9-e39b39636735",
   "metadata": {},
   "outputs": [],
   "source": [
    "df_clustered = pd.DataFrame(X_scaled, columns=X.columns)\n",
    "df_clustered"
   ]
  },
  {
   "cell_type": "code",
   "execution_count": null,
   "id": "1acd9195-ec98-4e43-a669-4b078944e49d",
   "metadata": {},
   "outputs": [],
   "source": [
    "df_clustered['Group'] = kmeans.labels_\n",
    "df_clustered['position'] = y"
   ]
  },
  {
   "cell_type": "code",
   "execution_count": null,
   "id": "caff75f2-b809-42c8-9916-942a7f95214c",
   "metadata": {},
   "outputs": [],
   "source": [
    "df_clustered"
   ]
  },
  {
   "cell_type": "code",
   "execution_count": null,
   "id": "73a32c7e-9abf-4d4c-8893-032468774708",
   "metadata": {},
   "outputs": [],
   "source": [
    "group_mapping = {\n",
    "    1: 'Superstars',\n",
    "    0: 'All-Stars',\n",
    "    3: 'Role Players',\n",
    "    2: 'Prospects and Bench Players'\n",
    "}\n",
    "\n",
    "df_clustered['Group'] = df_clustered['Group'].map(group_mapping)"
   ]
  },
  {
   "cell_type": "code",
   "execution_count": null,
   "id": "58bad81b-4104-4a92-b719-2ef0cd2eaa89",
   "metadata": {},
   "outputs": [],
   "source": [
    "plt.figure(figsize=(8, 6))\n",
    "sns.scatterplot(data=df_clustered, x='MP', y='PTS', hue='Group', palette='Set1', s=100)\n",
    "plt.title('Players efficiency based on points')\n",
    "plt.xlabel('Minutes per game')\n",
    "plt.ylabel('Points per game')\n",
    "plt.legend(title='Group')\n",
    "plt.show()"
   ]
  },
  {
   "cell_type": "code",
   "execution_count": null,
   "id": "9e1bce83-f96d-4430-b746-477ff64f173c",
   "metadata": {},
   "outputs": [],
   "source": [
    "plt.figure(figsize=(8, 6))\n",
    "sns.scatterplot(data=df_clustered, x='MP', y='TRB', hue='Group', palette='Set1', s=100)\n",
    "plt.title('Players efficiency based on rebounds')\n",
    "plt.xlabel('Minutes per game')\n",
    "plt.ylabel('Rebounds per game')\n",
    "plt.legend(title='Group')\n",
    "plt.show()"
   ]
  },
  {
   "cell_type": "code",
   "execution_count": null,
   "id": "c1584674-9bef-4c88-85a0-963e3b6583b4",
   "metadata": {},
   "outputs": [],
   "source": [
    "plt.figure(figsize=(8, 6))\n",
    "sns.scatterplot(data=df_clustered, x='MP', y='AST', hue='Group', palette='Set1', s=100)\n",
    "plt.title('Players efficiency based on assists')\n",
    "plt.xlabel('Minutes per game')\n",
    "plt.ylabel('Assists per game')\n",
    "plt.legend(title='Group')\n",
    "plt.show()"
   ]
  },
  {
   "cell_type": "code",
   "execution_count": null,
   "id": "b8ccd003-6c3c-4238-a889-5659e29f909b",
   "metadata": {},
   "outputs": [],
   "source": [
    "plt.figure(figsize=(8, 6))\n",
    "sns.scatterplot(data=df_clustered, x='MP', y='GmSc', hue='Group', palette='Set1', s=100)\n",
    "plt.title('Players performance')\n",
    "plt.xlabel('Minutes per game')\n",
    "plt.ylabel('Performance score')\n",
    "plt.legend(title='Group')\n",
    "plt.show()"
   ]
  },
  {
   "cell_type": "code",
   "execution_count": null,
   "id": "b1e2027c-b205-4012-892e-3c1fec62007d",
   "metadata": {},
   "outputs": [],
   "source": [
    "from sklearn.metrics import silhouette_score"
   ]
  },
  {
   "cell_type": "code",
   "execution_count": null,
   "id": "5c2d045f-291b-4a81-9f1c-c505145b18ae",
   "metadata": {},
   "outputs": [],
   "source": [
    "silhouette_avg = silhouette_score(X_scaled, kmeans.labels_)\n",
    "print(f'Silhouette Score: {silhouette_avg:.3f}')"
   ]
  },
  {
   "cell_type": "code",
   "execution_count": null,
   "id": "be7905ee-4e08-4886-bac3-cd08815bf276",
   "metadata": {},
   "outputs": [],
   "source": [
    "inertias = []\n",
    "range_of_clusters = range(1, 11)\n",
    "\n",
    "for k in range_of_clusters:\n",
    "    model = KMeans(n_clusters=k, random_state=42, n_init=10)\n",
    "    model.fit(X_scaled)\n",
    "    inertias.append(model.inertia_)"
   ]
  },
  {
   "cell_type": "code",
   "execution_count": null,
   "id": "b8f080d3-18f6-4f4d-a1c6-16c8b415c5b8",
   "metadata": {},
   "outputs": [],
   "source": [
    "import plotly.graph_objects as go\n",
    "\n",
    "fig = go.Figure()\n",
    "fig.add_trace(go.Scatter(x=list(range_of_clusters), y=inertias, mode='lines+markers', name='Inertia'))\n",
    "fig.update_layout(title='Elbow Method For Optimal k',\n",
    "                  xaxis_title='Number of clusters, k',\n",
    "                  yaxis_title='Inertia',\n",
    "                  xaxis=dict(tickmode='array', tickvals=list(range_of_clusters)))\n",
    "fig.show()"
   ]
  },
  {
   "cell_type": "code",
   "execution_count": null,
   "id": "479af73c-b9e1-45fd-8881-a20d70810119",
   "metadata": {},
   "outputs": [],
   "source": [
    "df_grouped = df.copy()"
   ]
  },
  {
   "cell_type": "code",
   "execution_count": null,
   "id": "7b3e3965-de15-44e3-be36-47c8bea24f09",
   "metadata": {},
   "outputs": [],
   "source": [
    "df_grouped['Group'] = df_clustered['Group']"
   ]
  },
  {
   "cell_type": "code",
   "execution_count": null,
   "id": "2f0ecf06-ca50-4faf-8dab-3e94d3022254",
   "metadata": {},
   "outputs": [],
   "source": [
    "df_grouped.to_csv('players_classification.csv', index=False)"
   ]
  },
  {
   "cell_type": "code",
   "execution_count": null,
   "id": "be47a6aa-13f3-4159-ba4b-e35379146c20",
   "metadata": {},
   "outputs": [],
   "source": []
  }
 ],
 "metadata": {
  "kernelspec": {
   "display_name": "Python 3 (ipykernel)",
   "language": "python",
   "name": "python3"
  },
  "language_info": {
   "codemirror_mode": {
    "name": "ipython",
    "version": 3
   },
   "file_extension": ".py",
   "mimetype": "text/x-python",
   "name": "python",
   "nbconvert_exporter": "python",
   "pygments_lexer": "ipython3",
   "version": "3.12.4"
  }
 },
 "nbformat": 4,
 "nbformat_minor": 5
}
